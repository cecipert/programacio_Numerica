{
 "cells": [
  {
   "cell_type": "markdown",
   "id": "1bc2b00c",
   "metadata": {},
   "source": [
    "# S03 T04 Programación numérica"
   ]
  },
  {
   "cell_type": "markdown",
   "id": "e798849b",
   "metadata": {},
   "source": [
    "## Exercici 1"
   ]
  },
  {
   "cell_type": "code",
   "execution_count": 1,
   "id": "d94b890d",
   "metadata": {},
   "outputs": [],
   "source": [
    "# definir una función que de un resumen estadístico de los datos de un array\n",
    "import numpy as np\n",
    "\n",
    "\n",
    "def arr_estad(arr):\n",
    "    if arr.ndim != 1:\n",
    "        print('El array no puede ser de {} dimensiones'.format(arr.ndim))\n",
    "        return\n",
    "    else:\n",
    "        print('La media es: ', np.mean(arr).round(decimals=2))\n",
    "        print('La mediana es: ', round(np.median(arr),2))\n",
    "        print('La desviación standard es: ', round(np.std(arr),2))\n",
    "        print('La varianza es: ', round(np.var(arr),2))\n",
    "        return\n"
   ]
  },
  {
   "cell_type": "code",
   "execution_count": 2,
   "id": "23d5f86d",
   "metadata": {},
   "outputs": [
    {
     "name": "stdout",
     "output_type": "stream",
     "text": [
      "El arrary:  [0 0 2 4 4 3 7]\n",
      "La media es:  2.86\n",
      "La mediana es:  3.0\n",
      "La desviación standard es:  2.29\n",
      "La varianza es:  5.27\n",
      "El arrary:  [[0 0 1 2 3 4 5 7]\n",
      " [2 4 5 4 5 3 7 6]]\n",
      "El array no puede ser de 2 dimensiones\n"
     ]
    }
   ],
   "source": [
    "# defino el array de prueba\n",
    "mi_arr =  np.array([0, 0, 2, 4 ,4 ,3 ,7])\n",
    "mi_arr2 = np.array([[0, 0, 1,2,3,4,5,7], [2,4,5,4,5,3,7,6,]])\n",
    "\n",
    "# Un array de una dimensión para calcular las estadísticas\n",
    "print('El arrary: ',mi_arr)\n",
    "arr_estad(mi_arr)\n",
    "\n",
    "# Este array tiene 2 dimensiones y debe dar error\n",
    "print('El arrary: ',mi_arr2)\n",
    "arr_estad(mi_arr2)\n",
    "\n"
   ]
  },
  {
   "cell_type": "markdown",
   "id": "e3d09dc4",
   "metadata": {},
   "source": [
    "## Exercici 2\n"
   ]
  },
  {
   "cell_type": "code",
   "execution_count": 3,
   "id": "0cbc3e38",
   "metadata": {},
   "outputs": [
    {
     "name": "stdout",
     "output_type": "stream",
     "text": [
      "Ingrese el lado del cuadrado: 15\n",
      "[[  9  86   4  69  41   4  24  34  69  69  58  26  57  52 100]\n",
      " [ 51  37  80  78  48   4  58  47   8  52  92  81  43  85  46]\n",
      " [ 16  53  86  28  82  76  92  71  53  72  75  43  85  13  41]\n",
      " [ 44  33  17   4  36  45  84  13  60  65  66  53  84  86  63]\n",
      " [  9  60  65  65  74   4  23   6  18  94  89  19  95  27  59]\n",
      " [ 37  78  88   1  81  18  57  25  16  52  77  67  99  19  23]\n",
      " [ 54  35  16  25  40  18   8  93  20  96  76  38  56  38  58]\n",
      " [ 94  94  25  36  29  90  80  69  73  81  42   6  56  20   4]\n",
      " [ 31  63  60  35  22  83  33  60  56  51  26  98   7  53   2]\n",
      " [  2  99  25   3  61  51  97   7   7  72  68  76  66  58  76]\n",
      " [ 98  80  93  81  93  71  49 100  43  90  21  75  91  57  47]\n",
      " [ 48  83  37  63  51  91  90  45  77  25  20  93  45  37   2]\n",
      " [ 98  34   4  68  16 100 100  65   7  97  95  40  46  42  72]\n",
      " [ 32  10  37  75  42  93  60  99  38  35  50  99  95  15  39]\n",
      " [ 69  42  26  90  96  35  50   4  79  39  71  96  88  65  21]]\n"
     ]
    }
   ],
   "source": [
    "# generar un cuadrado de nxn con números aleatorios\n",
    "import numpy as np\n",
    "n = int(input('Ingrese el lado del cuadrado: '))\n",
    "\n",
    "# primero genero el 1darray con todos los datos\n",
    "# genero una lista de n*n nros al azar (de 0 a 100)\n",
    "import random\n",
    "\n",
    "# genero un array de n x x para cargar los datos\n",
    "cuad = np.empty((n,n),int)\n",
    "# en realidad no está vacío porque tiene los datos qeu había en la memoria\n",
    "# print(cuad)\n",
    "\n",
    "# recorro sus filas y columnas para cargar los datos aleatorios\n",
    "for i in range(0, n):\n",
    "    for j in range(0,n):\n",
    "        cuad[i,j] = random.randint(0, 100)\n",
    "    \n",
    "    \n",
    "\n",
    "print(cuad)\n"
   ]
  },
  {
   "cell_type": "markdown",
   "id": "f7bb7a35",
   "metadata": {},
   "source": [
    " # Exercici 3"
   ]
  },
  {
   "cell_type": "code",
   "execution_count": 4,
   "id": "740ce38e",
   "metadata": {},
   "outputs": [
    {
     "name": "stdout",
     "output_type": "stream",
     "text": [
      "Total filas:  [ 702  810  886  753  707  738  671  799  680  768 1089  807  884  819\n",
      "  871]\n",
      "Total columnas:  [ 692  887  663  721  812  783  905  738  624  990  926  910 1013  667\n",
      "  653]\n"
     ]
    }
   ],
   "source": [
    "# dfinir una función que calcule el total por filas y por columnas\n",
    "\n",
    "def total_fyc(arr):\n",
    "    t_filas = np.sum(arr, axis=1)\n",
    "    t_colum = np.sum(arr, axis=0)\n",
    "    print('Total filas: ', t_filas)\n",
    "    print('Total columnas: ', t_colum)\n",
    "    return t_filas, t_colum\n",
    "\n",
    "tf, tc = total_fyc(cuad)"
   ]
  },
  {
   "cell_type": "markdown",
   "id": "67d494b5",
   "metadata": {},
   "source": [
    "## Exercici 4"
   ]
  },
  {
   "cell_type": "markdown",
   "id": "49c66ba9",
   "metadata": {},
   "source": [
    "### Cálculo del coeficiente de correlación\n",
    "El coeficiente de correlación de Pearson mide la asociación lineal entre dos variables aleatorias X e Y. Siempre es un valor entre -1 y 1. El resultado se puede interpretar así:\n",
    "\n",
    "* +1 – Correlación positiva completa\n",
    "* +0,8 – Fuerte correlación positiva\n",
    "* +0,6 – Correlación positiva moderada\n",
    "* 0 – sin correlación alguna\n",
    "* -0,6 – Correlación negativa moderada\n",
    "* -0,8 – Fuerte correlación negativa\n",
    "* -1 – Correlación negativa completa\n",
    "\n",
    "Que haya correlación positiva significa que cuando una de las variables aumenta su valor, la otra también lo hará. En cambio la correlación negativa hará que, cuando una de las variables aumenta, la otra disminuya.  \n",
    "\n",
    "Las columnas de la matriz serán las distintas variables y las filas las observaciones. \n",
    "\n",
    "Para el cálculo del coeficiente entre X e Y calculamos:\n",
    "\n",
    "$$\n",
    "coef_ {X, Y} =  { covarianza_ {XY}} /  ({ sd_X * sd_Y})\n",
    "$$"
   ]
  },
  {
   "cell_type": "code",
   "execution_count": 5,
   "id": "36aad73c",
   "metadata": {},
   "outputs": [],
   "source": [
    "# defino los valores de las variables X e Y en una cantidad c de observaciones \n",
    "x = np.array([2,3,4,4,5,6,6,7,7,8,10,10])\n",
    "y = np.array([1,3,2,4,4,4,6,4,6,7,9,10])\n",
    "\n",
    "# necesito la covarianza de XY:\n",
    "prod_xy = x * y\n",
    "\n",
    "covarianza = np.mean(prod_xy) - (np.mean(x) * np.mean(y))\n",
    "\n",
    "\n"
   ]
  },
  {
   "cell_type": "code",
   "execution_count": 6,
   "id": "809e2318",
   "metadata": {},
   "outputs": [
    {
     "name": "stdout",
     "output_type": "stream",
     "text": [
      "0.94\n",
      "[[1.   0.94]\n",
      " [0.94 1.  ]]\n"
     ]
    }
   ],
   "source": [
    "sdx = np.std(x)\n",
    "sdy = np.std(y)\n",
    "\n",
    "\n",
    "# el coeficiente de correlación entre X e Y es:\n",
    "coef = covarianza /(sdx * sdy)\n",
    "\n",
    "print(round(coef,2))\n",
    "\n",
    "# si la calculo con la función de numpy obtengo lo mismo \n",
    "# es una matriz simétrica, en donde hay unos en la diagonal (porque es el coef de cada variable consigo misma)\n",
    "# y el mismo valor en los otros dos campos (coef de XY y coef de YX)\n",
    "my_rho = np.corrcoef(x, y)\n",
    "\n",
    "print(np.round(my_rho,2))"
   ]
  },
  {
   "cell_type": "code",
   "execution_count": null,
   "id": "1e6f09ef",
   "metadata": {},
   "outputs": [],
   "source": []
  }
 ],
 "metadata": {
  "kernelspec": {
   "display_name": "Python 3",
   "language": "python",
   "name": "python3"
  },
  "language_info": {
   "codemirror_mode": {
    "name": "ipython",
    "version": 3
   },
   "file_extension": ".py",
   "mimetype": "text/x-python",
   "name": "python",
   "nbconvert_exporter": "python",
   "pygments_lexer": "ipython3",
   "version": "3.8.8"
  }
 },
 "nbformat": 4,
 "nbformat_minor": 5
}
